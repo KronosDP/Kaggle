{
 "cells": [
  {
   "cell_type": "code",
   "execution_count": 15,
   "metadata": {},
   "outputs": [],
   "source": [
    "import pandas as pd\n",
    "import numpy as np\n",
    "import matplotlib.pyplot as plt\n",
    "from sklearn.model_selection import train_test_split \n",
    "from sklearn.metrics import mean_squared_error\n",
    "from sklearn.model_selection import RandomizedSearchCV\n",
    "import xgboost as xgb"
   ]
  },
  {
   "cell_type": "code",
   "execution_count": 16,
   "metadata": {},
   "outputs": [],
   "source": [
    "train_oe = pd.read_csv(\"Datasets/train_le_ohe_oe.csv\")\n",
    "test_oe = pd.read_csv(\"Datasets/test_le_ohe_oe.csv\")\n",
    "\n",
    "train = pd.read_csv(\"Datasets/train.csv\")\n",
    "test = pd.read_csv(\"Datasets/test.csv\")"
   ]
  },
  {
   "cell_type": "code",
   "execution_count": 17,
   "metadata": {},
   "outputs": [
    {
     "data": {
      "text/plain": [
       "((1460, 224), (1459, 223), (1460, 81), (1459, 80))"
      ]
     },
     "execution_count": 17,
     "metadata": {},
     "output_type": "execute_result"
    }
   ],
   "source": [
    "train_oe.shape, test_oe.shape, train.shape, test.shape"
   ]
  },
  {
   "cell_type": "code",
   "execution_count": 18,
   "metadata": {},
   "outputs": [],
   "source": [
    "test_id = test[\"Id\"]"
   ]
  },
  {
   "cell_type": "code",
   "execution_count": 19,
   "metadata": {},
   "outputs": [],
   "source": [
    "# train = train.drop(\"Id\", axis=1)\n",
    "# test = test.drop(\"Id\", axis=1)"
   ]
  },
  {
   "cell_type": "code",
   "execution_count": 20,
   "metadata": {},
   "outputs": [],
   "source": [
    "def xgboost(train, test, test_ids):\n",
    "    \n",
    "    X = train.iloc[:,1:-1]\n",
    "    y = train.iloc[:,-1]\n",
    "\n",
    "    X_train, X_test, y_train, y_test = train_test_split(X, y, test_size=0.8, random_state=42)\n",
    "\n",
    "    model = xgb.XGBRegressor(tree_method=\"gpu_hist\")\n",
    "    model.fit(X_train, y_train)\n",
    "    y_pred = model.predict(X_test)\n",
    "\n",
    "    print(\"MSE\", mean_squared_error(y_test, y_pred))\n",
    "\n",
    "\n",
    "    X_train = train.iloc[:,1:-1]\n",
    "    X_test = test.iloc[:,1:]\n",
    "    y_train = train.iloc[:,-1]\n",
    "\n",
    "    model = xgb.XGBRegressor(tree_method=\"gpu_hist\")\n",
    "    model.fit(X_train, y_train)\n",
    "    y_pred = model.predict(X_test)\n",
    "\n",
    "\n",
    "    submission = pd.DataFrame({'Id': test_ids, 'SalePrice': y_pred})\n",
    "\n",
    "    return submission"
   ]
  },
  {
   "cell_type": "code",
   "execution_count": 21,
   "metadata": {},
   "outputs": [
    {
     "name": "stdout",
     "output_type": "stream",
     "text": [
      "MSE 1136749760.4530852\n"
     ]
    }
   ],
   "source": [
    "xgboost(train_oe, test_oe, test_id).to_csv(\"Submissions/xgboost_baseline_le_ohe_oe.csv\", index=False)"
   ]
  },
  {
   "cell_type": "code",
   "execution_count": null,
   "metadata": {},
   "outputs": [],
   "source": []
  }
 ],
 "metadata": {
  "kernelspec": {
   "display_name": "Python 3",
   "language": "python",
   "name": "python3"
  },
  "language_info": {
   "codemirror_mode": {
    "name": "ipython",
    "version": 3
   },
   "file_extension": ".py",
   "mimetype": "text/x-python",
   "name": "python",
   "nbconvert_exporter": "python",
   "pygments_lexer": "ipython3",
   "version": "3.10.5"
  },
  "orig_nbformat": 4
 },
 "nbformat": 4,
 "nbformat_minor": 2
}
