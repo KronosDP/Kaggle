{
 "cells": [
  {
   "cell_type": "code",
   "execution_count": 55,
   "metadata": {},
   "outputs": [],
   "source": [
    "import pandas as pd\n",
    "import xgboost as xgb\n",
    "import optuna"
   ]
  },
  {
   "cell_type": "code",
   "execution_count": 56,
   "metadata": {},
   "outputs": [],
   "source": [
    "train = pd.read_csv(\"Datasets/train_le_ohe.csv\")\n",
    "test = pd.read_csv(\"Datasets/test_le_ohe.csv\")\n",
    "ids = pd.read_csv(\"Datasets/test.csv\")[\"Id\"]"
   ]
  },
  {
   "cell_type": "code",
   "execution_count": 57,
   "metadata": {},
   "outputs": [],
   "source": [
    "X_train = train.iloc[:,:-1]\n",
    "X_test = test\n",
    "y=train[\"SalePrice\"]"
   ]
  },
  {
   "cell_type": "code",
   "execution_count": 61,
   "metadata": {},
   "outputs": [],
   "source": [
    "def objective(trial):\n",
    "    cv_params = {\n",
    "        \"early_stopping_rounds\": 10,\n",
    "        \"nfold\": 5,\n",
    "        \"metrics\": 'rmsle',\n",
    "        \"num_boost_round\": trial.suggest_int('num_boost_round', 500, 2000),\n",
    "    }\n",
    "    model_params = {\n",
    "        \"eval_metric\": 'rmsle',\n",
    "        \"eta\": trial.suggest_float('eta', 0.01, 0.2),\n",
    "        \"max_depth\": trial.suggest_int('max_depth', 2, 16),\n",
    "        'lambda': trial.suggest_float('lambda', 1e-3, 10.0),\n",
    "        'alpha': trial.suggest_float('alpha', 1e-3, 10.0),\n",
    "        'colsample_bytree': trial.suggest_categorical('colsample_bytree', [0.3,0.4,0.5,0.6,0.7,0.8,0.9, 1.0]),\n",
    "        'subsample': trial.suggest_categorical('subsample', [0.4,0.5,0.6,0.7,0.8,1.0]),\n",
    "        'min_child_weight': trial.suggest_int('min_child_weight', 1, 300),\n",
    "        \"n_jobs\": 4,\n",
    "        'tree_method': 'gpu_hist'\n",
    "    }\n",
    "    data_dmatrix = xgb.DMatrix(data=X_train, label=y)\n",
    "    xgb_cv = xgb.cv(dtrain=data_dmatrix, params=model_params, **cv_params)\n",
    "    return xgb_cv['test-rmsle-mean'].iloc[-1]"
   ]
  },
  {
   "cell_type": "code",
   "execution_count": 62,
   "metadata": {},
   "outputs": [
    {
     "name": "stderr",
     "output_type": "stream",
     "text": [
      "[I 2023-08-01 11:24:28,514] A new study created in memory with name: no-name-c1debd25-2218-48f5-b1ac-c9ed2c939aa7\n",
      "[I 2023-08-01 11:24:32,995] Trial 0 finished with value: 0.12854094421855572 and parameters: {'num_boost_round': 536, 'eta': 0.07052987336465426, 'max_depth': 9, 'lambda': 6.621830866103717, 'alpha': 9.67040590338482, 'colsample_bytree': 0.6, 'subsample': 1.0, 'min_child_weight': 24}. Best is trial 0 with value: 0.12854094421855572.\n",
      "[I 2023-08-01 11:24:34,319] Trial 1 finished with value: 0.2051309092230536 and parameters: {'num_boost_round': 1423, 'eta': 0.1642450989426877, 'max_depth': 16, 'lambda': 4.827904231328236, 'alpha': 4.912328474993059, 'colsample_bytree': 0.7, 'subsample': 0.4, 'min_child_weight': 190}. Best is trial 0 with value: 0.12854094421855572.\n",
      "[I 2023-08-01 11:24:39,016] Trial 2 finished with value: 0.1484022202791415 and parameters: {'num_boost_round': 535, 'eta': 0.07289881388137831, 'max_depth': 16, 'lambda': 9.001160018309543, 'alpha': 8.53172257068664, 'colsample_bytree': 0.9, 'subsample': 0.7, 'min_child_weight': 102}. Best is trial 0 with value: 0.12854094421855572.\n",
      "[I 2023-08-01 11:24:52,588] Trial 3 finished with value: 0.16669578642276445 and parameters: {'num_boost_round': 1525, 'eta': 0.05162370079708213, 'max_depth': 16, 'lambda': 8.969273441704464, 'alpha': 0.030510691865070046, 'colsample_bytree': 0.3, 'subsample': 1.0, 'min_child_weight': 213}. Best is trial 0 with value: 0.12854094421855572.\n",
      "[I 2023-08-01 11:25:02,879] Trial 4 finished with value: 0.12918249700634243 and parameters: {'num_boost_round': 1794, 'eta': 0.031148271946073988, 'max_depth': 5, 'lambda': 3.7577555258952717, 'alpha': 8.238173756100023, 'colsample_bytree': 0.7, 'subsample': 1.0, 'min_child_weight': 34}. Best is trial 0 with value: 0.12854094421855572.\n",
      "[I 2023-08-01 11:25:05,432] Trial 5 finished with value: 0.20862028139626373 and parameters: {'num_boost_round': 928, 'eta': 0.062020605713243734, 'max_depth': 7, 'lambda': 6.853138553075838, 'alpha': 2.9641565866686848, 'colsample_bytree': 0.7, 'subsample': 0.4, 'min_child_weight': 205}. Best is trial 0 with value: 0.12854094421855572.\n",
      "[I 2023-08-01 11:25:07,439] Trial 6 finished with value: 0.1974838418728405 and parameters: {'num_boost_round': 1240, 'eta': 0.14095065140619134, 'max_depth': 16, 'lambda': 6.221975711087565, 'alpha': 8.192898183628857, 'colsample_bytree': 0.8, 'subsample': 0.5, 'min_child_weight': 195}. Best is trial 0 with value: 0.12854094421855572.\n",
      "[I 2023-08-01 11:25:09,485] Trial 7 finished with value: 0.14507650228774793 and parameters: {'num_boost_round': 1422, 'eta': 0.19848231295687774, 'max_depth': 6, 'lambda': 8.16894446925211, 'alpha': 8.58215315777145, 'colsample_bytree': 0.4, 'subsample': 0.6, 'min_child_weight': 51}. Best is trial 0 with value: 0.12854094421855572.\n",
      "[I 2023-08-01 11:25:21,176] Trial 8 finished with value: 0.1323585015105232 and parameters: {'num_boost_round': 1198, 'eta': 0.026423265361792035, 'max_depth': 8, 'lambda': 5.150979414146807, 'alpha': 2.121796693668751, 'colsample_bytree': 0.3, 'subsample': 0.7, 'min_child_weight': 49}. Best is trial 0 with value: 0.12854094421855572.\n",
      "[I 2023-08-01 11:25:25,713] Trial 9 finished with value: 0.19842652385693116 and parameters: {'num_boost_round': 1173, 'eta': 0.0348294886967081, 'max_depth': 3, 'lambda': 6.247318423945184, 'alpha': 4.013033428538266, 'colsample_bytree': 0.8, 'subsample': 0.6, 'min_child_weight': 255}. Best is trial 0 with value: 0.12854094421855572.\n",
      "[I 2023-08-01 11:25:32,331] Trial 10 finished with value: 0.15069560801826626 and parameters: {'num_boost_round': 565, 'eta': 0.11279569696172889, 'max_depth': 12, 'lambda': 0.6336138637205817, 'alpha': 6.619644395956789, 'colsample_bytree': 0.6, 'subsample': 0.8, 'min_child_weight': 126}. Best is trial 0 with value: 0.12854094421855572.\n",
      "[I 2023-08-01 11:25:51,989] Trial 11 finished with value: 0.12824993204671603 and parameters: {'num_boost_round': 1872, 'eta': 0.017841795442697296, 'max_depth': 11, 'lambda': 4.020037201860378, 'alpha': 9.648486938710144, 'colsample_bytree': 0.6, 'subsample': 1.0, 'min_child_weight': 5}. Best is trial 11 with value: 0.12824993204671603.\n",
      "[I 2023-08-01 11:26:08,494] Trial 12 finished with value: 0.12770530341237904 and parameters: {'num_boost_round': 1851, 'eta': 0.017242995123245154, 'max_depth': 11, 'lambda': 3.3784937491153606, 'alpha': 9.898464702982771, 'colsample_bytree': 0.6, 'subsample': 1.0, 'min_child_weight': 11}. Best is trial 12 with value: 0.12770530341237904.\n",
      "[I 2023-08-01 11:26:20,605] Trial 13 finished with value: 0.1292575914728052 and parameters: {'num_boost_round': 2000, 'eta': 0.01836914539299806, 'max_depth': 11, 'lambda': 2.8249571952422343, 'alpha': 9.913205214165407, 'colsample_bytree': 0.6, 'subsample': 1.0, 'min_child_weight': 6}. Best is trial 12 with value: 0.12770530341237904.\n",
      "[I 2023-08-01 11:26:45,959] Trial 14 finished with value: 0.1417086755237799 and parameters: {'num_boost_round': 1777, 'eta': 0.012196588950225594, 'max_depth': 12, 'lambda': 2.6824203913941136, 'alpha': 6.667097414009179, 'colsample_bytree': 0.5, 'subsample': 1.0, 'min_child_weight': 84}. Best is trial 12 with value: 0.12770530341237904.\n",
      "[I 2023-08-01 11:26:49,882] Trial 15 finished with value: 0.15195573876466018 and parameters: {'num_boost_round': 1954, 'eta': 0.09325332921860668, 'max_depth': 11, 'lambda': 1.2184157716786843, 'alpha': 6.214446439175645, 'colsample_bytree': 1.0, 'subsample': 0.5, 'min_child_weight': 81}. Best is trial 12 with value: 0.12770530341237904.\n",
      "[I 2023-08-01 11:27:31,189] Trial 16 finished with value: 0.12735483017569774 and parameters: {'num_boost_round': 1686, 'eta': 0.011912830318244848, 'max_depth': 13, 'lambda': 1.5677955794785763, 'alpha': 9.92554355071639, 'colsample_bytree': 0.6, 'subsample': 0.8, 'min_child_weight': 1}. Best is trial 16 with value: 0.12735483017569774.\n",
      "[I 2023-08-01 11:27:39,735] Trial 17 finished with value: 0.1551213260184867 and parameters: {'num_boost_round': 1635, 'eta': 0.04627063705112428, 'max_depth': 14, 'lambda': 1.2638984607248958, 'alpha': 7.369444026716149, 'colsample_bytree': 0.6, 'subsample': 0.8, 'min_child_weight': 144}. Best is trial 16 with value: 0.12735483017569774.\n",
      "[I 2023-08-01 11:27:47,261] Trial 18 finished with value: 0.1343547946083178 and parameters: {'num_boost_round': 1679, 'eta': 0.04746060425368916, 'max_depth': 14, 'lambda': 2.1375736421983094, 'alpha': 9.976080445553745, 'colsample_bytree': 0.5, 'subsample': 0.8, 'min_child_weight': 62}. Best is trial 16 with value: 0.12735483017569774.\n",
      "[I 2023-08-01 11:27:58,926] Trial 19 finished with value: 0.20092997400066714 and parameters: {'num_boost_round': 936, 'eta': 0.014427543551068955, 'max_depth': 14, 'lambda': 0.2168973088428512, 'alpha': 5.594278527852822, 'colsample_bytree': 0.4, 'subsample': 0.8, 'min_child_weight': 298}. Best is trial 16 with value: 0.12735483017569774.\n",
      "[I 2023-08-01 11:28:11,286] Trial 20 finished with value: 0.148547143050435 and parameters: {'num_boost_round': 1607, 'eta': 0.03691079392521392, 'max_depth': 9, 'lambda': 1.9025429131126532, 'alpha': 7.477891056599207, 'colsample_bytree': 0.9, 'subsample': 0.8, 'min_child_weight': 111}. Best is trial 16 with value: 0.12735483017569774.\n",
      "[I 2023-08-01 11:28:46,414] Trial 21 finished with value: 0.12845185113141636 and parameters: {'num_boost_round': 1874, 'eta': 0.011174857614769938, 'max_depth': 11, 'lambda': 3.6931662327787214, 'alpha': 9.256427964976966, 'colsample_bytree': 0.6, 'subsample': 1.0, 'min_child_weight': 2}. Best is trial 16 with value: 0.12735483017569774.\n",
      "[I 2023-08-01 11:28:54,883] Trial 22 finished with value: 0.1276609546923666 and parameters: {'num_boost_round': 1787, 'eta': 0.030058265089435057, 'max_depth': 13, 'lambda': 3.451027121876146, 'alpha': 9.098482103320865, 'colsample_bytree': 0.6, 'subsample': 1.0, 'min_child_weight': 16}. Best is trial 16 with value: 0.12735483017569774.\n",
      "[I 2023-08-01 11:29:02,876] Trial 23 finished with value: 0.1277318611623961 and parameters: {'num_boost_round': 1731, 'eta': 0.035435694955803454, 'max_depth': 13, 'lambda': 2.767930265426633, 'alpha': 9.054966042579922, 'colsample_bytree': 0.6, 'subsample': 1.0, 'min_child_weight': 28}. Best is trial 16 with value: 0.12735483017569774.\n",
      "[I 2023-08-01 11:29:07,538] Trial 24 finished with value: 0.14366678928732463 and parameters: {'num_boost_round': 1468, 'eta': 0.056067036480279636, 'max_depth': 13, 'lambda': 1.8266307475351353, 'alpha': 8.979255353631256, 'colsample_bytree': 1.0, 'subsample': 0.7, 'min_child_weight': 71}. Best is trial 16 with value: 0.12735483017569774.\n",
      "[I 2023-08-01 11:29:16,616] Trial 25 finished with value: 0.1304907782526979 and parameters: {'num_boost_round': 1852, 'eta': 0.027710925956132185, 'max_depth': 10, 'lambda': 3.1648148838375607, 'alpha': 8.016408509450144, 'colsample_bytree': 0.6, 'subsample': 0.4, 'min_child_weight': 25}. Best is trial 16 with value: 0.12735483017569774.\n",
      "[I 2023-08-01 11:29:42,179] Trial 26 finished with value: 0.13739493008381176 and parameters: {'num_boost_round': 1595, 'eta': 0.010644393410443488, 'max_depth': 13, 'lambda': 4.464095960983, 'alpha': 9.07585189056447, 'colsample_bytree': 0.6, 'subsample': 0.5, 'min_child_weight': 47}. Best is trial 16 with value: 0.12735483017569774.\n",
      "[I 2023-08-01 11:29:49,706] Trial 27 finished with value: 0.12940567242934695 and parameters: {'num_boost_round': 1367, 'eta': 0.04265292672177742, 'max_depth': 15, 'lambda': 3.4811506339020495, 'alpha': 9.987507405272423, 'colsample_bytree': 0.6, 'subsample': 0.6, 'min_child_weight': 3}. Best is trial 16 with value: 0.12735483017569774.\n",
      "[I 2023-08-01 11:29:58,846] Trial 28 finished with value: 0.17146936863290044 and parameters: {'num_boost_round': 1079, 'eta': 0.026168681366436786, 'max_depth': 12, 'lambda': 2.290706670462196, 'alpha': 7.61972771376712, 'colsample_bytree': 0.6, 'subsample': 0.8, 'min_child_weight': 170}. Best is trial 16 with value: 0.12735483017569774.\n",
      "[I 2023-08-01 11:30:02,616] Trial 29 finished with value: 0.1296489314540548 and parameters: {'num_boost_round': 1928, 'eta': 0.06986348897343692, 'max_depth': 10, 'lambda': 1.318614690802653, 'alpha': 9.247370096348023, 'colsample_bytree': 0.6, 'subsample': 1.0, 'min_child_weight': 35}. Best is trial 16 with value: 0.12735483017569774.\n",
      "[I 2023-08-01 11:30:07,939] Trial 30 finished with value: 0.1447575370060863 and parameters: {'num_boost_round': 1716, 'eta': 0.06249204769420775, 'max_depth': 8, 'lambda': 0.08763957232876507, 'alpha': 8.611871692395717, 'colsample_bytree': 0.4, 'subsample': 1.0, 'min_child_weight': 85}. Best is trial 16 with value: 0.12735483017569774.\n",
      "[I 2023-08-01 11:30:14,734] Trial 31 finished with value: 0.12715164771442886 and parameters: {'num_boost_round': 1770, 'eta': 0.03670552966067921, 'max_depth': 13, 'lambda': 3.04967376271789, 'alpha': 9.352140379864062, 'colsample_bytree': 0.6, 'subsample': 1.0, 'min_child_weight': 21}. Best is trial 31 with value: 0.12715164771442886.\n",
      "[I 2023-08-01 11:30:22,893] Trial 32 finished with value: 0.12788264447216918 and parameters: {'num_boost_round': 1535, 'eta': 0.025757932287920032, 'max_depth': 14, 'lambda': 3.222451601942666, 'alpha': 9.349394654098273, 'colsample_bytree': 0.6, 'subsample': 1.0, 'min_child_weight': 22}. Best is trial 31 with value: 0.12715164771442886.\n",
      "[I 2023-08-01 11:30:30,283] Trial 33 finished with value: 0.12967201707124348 and parameters: {'num_boost_round': 1810, 'eta': 0.044737540170495325, 'max_depth': 15, 'lambda': 4.420819016601291, 'alpha': 9.973027570508712, 'colsample_bytree': 0.9, 'subsample': 1.0, 'min_child_weight': 20}. Best is trial 31 with value: 0.12715164771442886.\n",
      "[I 2023-08-01 11:30:34,731] Trial 34 finished with value: 0.13252854146391954 and parameters: {'num_boost_round': 1691, 'eta': 0.07653328822702403, 'max_depth': 13, 'lambda': 2.560188774845149, 'alpha': 8.534189162680551, 'colsample_bytree': 0.3, 'subsample': 1.0, 'min_child_weight': 51}. Best is trial 31 with value: 0.12715164771442886.\n",
      "[I 2023-08-01 11:30:44,559] Trial 35 finished with value: 0.1704734374785404 and parameters: {'num_boost_round': 1374, 'eta': 0.03733345691656373, 'max_depth': 10, 'lambda': 3.201582806412616, 'alpha': 9.350499849897002, 'colsample_bytree': 0.6, 'subsample': 0.4, 'min_child_weight': 98}. Best is trial 31 with value: 0.12715164771442886.\n",
      "[I 2023-08-01 11:30:55,797] Trial 36 finished with value: 0.13076866244909835 and parameters: {'num_boost_round': 1916, 'eta': 0.022887758236089573, 'max_depth': 15, 'lambda': 5.089432559072024, 'alpha': 7.909154493741524, 'colsample_bytree': 0.7, 'subsample': 0.7, 'min_child_weight': 37}. Best is trial 31 with value: 0.12715164771442886.\n",
      "[I 2023-08-01 11:31:03,058] Trial 37 finished with value: 0.13453319784328685 and parameters: {'num_boost_round': 1551, 'eta': 0.051670146583249824, 'max_depth': 12, 'lambda': 3.970478281883667, 'alpha': 8.672987814538272, 'colsample_bytree': 0.8, 'subsample': 1.0, 'min_child_weight': 64}. Best is trial 31 with value: 0.12715164771442886.\n",
      "[I 2023-08-01 11:31:17,596] Trial 38 finished with value: 0.13091077151936242 and parameters: {'num_boost_round': 1799, 'eta': 0.03131808869758229, 'max_depth': 2, 'lambda': 1.96502930124703, 'alpha': 9.509776945329488, 'colsample_bytree': 1.0, 'subsample': 1.0, 'min_child_weight': 19}. Best is trial 31 with value: 0.12715164771442886.\n",
      "[I 2023-08-01 11:31:32,146] Trial 39 finished with value: 0.12316699137741845 and parameters: {'num_boost_round': 1737, 'eta': 0.021574595104360772, 'max_depth': 16, 'lambda': 2.9791157402857333, 'alpha': 8.264287156742965, 'colsample_bytree': 0.5, 'subsample': 0.5, 'min_child_weight': 14}. Best is trial 39 with value: 0.12316699137741845.\n",
      "[I 2023-08-01 11:31:35,287] Trial 40 finished with value: 0.20330897815620957 and parameters: {'num_boost_round': 1503, 'eta': 0.03915436551848862, 'max_depth': 16, 'lambda': 2.4588010281285193, 'alpha': 8.320886918110988, 'colsample_bytree': 0.5, 'subsample': 0.5, 'min_child_weight': 225}. Best is trial 39 with value: 0.12316699137741845.\n",
      "[I 2023-08-01 11:31:45,990] Trial 41 finished with value: 0.12419175423604137 and parameters: {'num_boost_round': 1743, 'eta': 0.021426229968065508, 'max_depth': 15, 'lambda': 2.9815238864519755, 'alpha': 8.684861079553245, 'colsample_bytree': 0.5, 'subsample': 0.5, 'min_child_weight': 14}. Best is trial 39 with value: 0.12316699137741845.\n",
      "[I 2023-08-01 11:31:55,616] Trial 42 finished with value: 0.13333879201247217 and parameters: {'num_boost_round': 1753, 'eta': 0.02385864496394023, 'max_depth': 15, 'lambda': 2.974721519989483, 'alpha': 8.841179330216141, 'colsample_bytree': 0.5, 'subsample': 0.5, 'min_child_weight': 39}. Best is trial 39 with value: 0.12316699137741845.\n",
      "[I 2023-08-01 11:32:05,254] Trial 43 finished with value: 0.12605519564221498 and parameters: {'num_boost_round': 1648, 'eta': 0.031575495560303785, 'max_depth': 16, 'lambda': 3.716988101595453, 'alpha': 7.9830767281559805, 'colsample_bytree': 0.5, 'subsample': 0.5, 'min_child_weight': 17}. Best is trial 39 with value: 0.12316699137741845.\n",
      "[I 2023-08-01 11:32:35,667] Trial 44 finished with value: 0.14120553745783 and parameters: {'num_boost_round': 1660, 'eta': 0.010435856861034409, 'max_depth': 16, 'lambda': 4.161079822526214, 'alpha': 8.006313740263824, 'colsample_bytree': 0.5, 'subsample': 0.5, 'min_child_weight': 57}. Best is trial 39 with value: 0.12316699137741845.\n",
      "[I 2023-08-01 11:33:01,438] Trial 45 finished with value: 0.12488025976651948 and parameters: {'num_boost_round': 1287, 'eta': 0.019745223357667468, 'max_depth': 16, 'lambda': 3.667557166987261, 'alpha': 7.180015676454165, 'colsample_bytree': 0.5, 'subsample': 0.5, 'min_child_weight': 1}. Best is trial 39 with value: 0.12316699137741845.\n",
      "[I 2023-08-01 11:33:07,000] Trial 46 finished with value: 0.13360116469126493 and parameters: {'num_boost_round': 617, 'eta': 0.055455837629600414, 'max_depth': 16, 'lambda': 4.561935946611228, 'alpha': 7.203436459168824, 'colsample_bytree': 0.5, 'subsample': 0.5, 'min_child_weight': 37}. Best is trial 39 with value: 0.12316699137741845.\n",
      "[I 2023-08-01 11:33:19,487] Trial 47 finished with value: 0.12477791685903009 and parameters: {'num_boost_round': 1318, 'eta': 0.021098639807485425, 'max_depth': 15, 'lambda': 3.9084533427246906, 'alpha': 7.083349393435021, 'colsample_bytree': 0.5, 'subsample': 0.5, 'min_child_weight': 14}. Best is trial 39 with value: 0.12316699137741845.\n",
      "[I 2023-08-01 11:33:33,764] Trial 48 finished with value: 0.13468175730721915 and parameters: {'num_boost_round': 1276, 'eta': 0.023955685722055146, 'max_depth': 15, 'lambda': 5.396932294559901, 'alpha': 6.812760069554937, 'colsample_bytree': 0.5, 'subsample': 0.5, 'min_child_weight': 44}. Best is trial 39 with value: 0.12316699137741845.\n",
      "[I 2023-08-01 11:33:52,689] Trial 49 finished with value: 0.14638842572782376 and parameters: {'num_boost_round': 1124, 'eta': 0.019031589256614873, 'max_depth': 16, 'lambda': 4.01825354824018, 'alpha': 7.795109335218353, 'colsample_bytree': 0.5, 'subsample': 0.5, 'min_child_weight': 69}. Best is trial 39 with value: 0.12316699137741845.\n",
      "[I 2023-08-01 11:34:04,395] Trial 50 finished with value: 0.12464123491640933 and parameters: {'num_boost_round': 1324, 'eta': 0.020278332928284085, 'max_depth': 5, 'lambda': 3.810672460978218, 'alpha': 7.285225231932513, 'colsample_bytree': 0.5, 'subsample': 0.5, 'min_child_weight': 12}. Best is trial 39 with value: 0.12316699137741845.\n",
      "[I 2023-08-01 11:34:16,883] Trial 51 finished with value: 0.1249366125808159 and parameters: {'num_boost_round': 1259, 'eta': 0.01921455598258404, 'max_depth': 5, 'lambda': 3.647085583418198, 'alpha': 8.23739832518685, 'colsample_bytree': 0.5, 'subsample': 0.5, 'min_child_weight': 11}. Best is trial 39 with value: 0.12316699137741845.\n",
      "[I 2023-08-01 11:34:29,169] Trial 52 finished with value: 0.12653694806087926 and parameters: {'num_boost_round': 1275, 'eta': 0.018638033821855395, 'max_depth': 4, 'lambda': 3.8076836793758906, 'alpha': 7.177708307894233, 'colsample_bytree': 0.5, 'subsample': 0.5, 'min_child_weight': 8}. Best is trial 39 with value: 0.12316699137741845.\n",
      "[I 2023-08-01 11:34:42,470] Trial 53 finished with value: 0.12990778161298483 and parameters: {'num_boost_round': 1036, 'eta': 0.020897461675081996, 'max_depth': 7, 'lambda': 4.681453920972729, 'alpha': 8.301865993689704, 'colsample_bytree': 0.5, 'subsample': 0.5, 'min_child_weight': 30}. Best is trial 39 with value: 0.12316699137741845.\n",
      "[I 2023-08-01 11:34:47,950] Trial 54 finished with value: 0.12515910495220045 and parameters: {'num_boost_round': 1360, 'eta': 0.045623940890364915, 'max_depth': 5, 'lambda': 2.7269533933431656, 'alpha': 7.089700893597941, 'colsample_bytree': 0.5, 'subsample': 0.5, 'min_child_weight': 12}. Best is trial 39 with value: 0.12316699137741845.\n",
      "[I 2023-08-01 11:34:58,450] Trial 55 finished with value: 0.1394774637168627 and parameters: {'num_boost_round': 1191, 'eta': 0.03192174684712868, 'max_depth': 6, 'lambda': 3.512861796426052, 'alpha': 6.188060244571358, 'colsample_bytree': 0.5, 'subsample': 0.5, 'min_child_weight': 52}. Best is trial 39 with value: 0.12316699137741845.\n",
      "[I 2023-08-01 11:35:09,580] Trial 56 finished with value: 0.1325002861585423 and parameters: {'num_boost_round': 1326, 'eta': 0.018209725795896033, 'max_depth': 4, 'lambda': 4.329305787208991, 'alpha': 7.3777225052152176, 'colsample_bytree': 0.5, 'subsample': 0.5, 'min_child_weight': 31}. Best is trial 39 with value: 0.12316699137741845.\n",
      "[I 2023-08-01 11:35:16,495] Trial 57 finished with value: 0.1251167926205487 and parameters: {'num_boost_round': 1428, 'eta': 0.03948160121103235, 'max_depth': 5, 'lambda': 4.795117111070188, 'alpha': 7.640652755069006, 'colsample_bytree': 0.5, 'subsample': 0.5, 'min_child_weight': 12}. Best is trial 39 with value: 0.12316699137741845.\n",
      "[I 2023-08-01 11:35:34,107] Trial 58 finished with value: 0.12522268848864476 and parameters: {'num_boost_round': 757, 'eta': 0.010106579294741886, 'max_depth': 6, 'lambda': 2.3697814043399097, 'alpha': 6.891071509971507, 'colsample_bytree': 0.7, 'subsample': 0.6, 'min_child_weight': 2}. Best is trial 39 with value: 0.12316699137741845.\n",
      "[I 2023-08-01 11:35:43,787] Trial 59 finished with value: 0.1734742449497052 and parameters: {'num_boost_round': 1232, 'eta': 0.03020650442581855, 'max_depth': 3, 'lambda': 4.1148457560314275, 'alpha': 6.43881214289809, 'colsample_bytree': 0.5, 'subsample': 0.5, 'min_child_weight': 122}. Best is trial 39 with value: 0.12316699137741845.\n",
      "[I 2023-08-01 11:35:55,854] Trial 60 finished with value: 0.19143419292746397 and parameters: {'num_boost_round': 993, 'eta': 0.01733055884133241, 'max_depth': 7, 'lambda': 3.512530606930123, 'alpha': 8.469646559647417, 'colsample_bytree': 0.3, 'subsample': 0.5, 'min_child_weight': 155}. Best is trial 39 with value: 0.12316699137741845.\n",
      "[I 2023-08-01 11:36:07,475] Trial 61 finished with value: 0.12477005730753332 and parameters: {'num_boost_round': 1432, 'eta': 0.024186537343197173, 'max_depth': 5, 'lambda': 4.964959072562045, 'alpha': 7.604899998864792, 'colsample_bytree': 0.5, 'subsample': 0.5, 'min_child_weight': 12}. Best is trial 39 with value: 0.12316699137741845.\n",
      "[I 2023-08-01 11:36:18,964] Trial 62 finished with value: 0.1245401708675904 and parameters: {'num_boost_round': 1131, 'eta': 0.024656467624302958, 'max_depth': 5, 'lambda': 5.238787151444362, 'alpha': 8.197551976225125, 'colsample_bytree': 0.5, 'subsample': 0.5, 'min_child_weight': 12}. Best is trial 39 with value: 0.12316699137741845.\n",
      "[I 2023-08-01 11:36:27,368] Trial 63 finished with value: 0.13218184918306108 and parameters: {'num_boost_round': 1135, 'eta': 0.02681813706634978, 'max_depth': 4, 'lambda': 5.501909845980046, 'alpha': 7.610697232818374, 'colsample_bytree': 0.5, 'subsample': 0.5, 'min_child_weight': 29}. Best is trial 39 with value: 0.12316699137741845.\n",
      "[I 2023-08-01 11:36:34,652] Trial 64 finished with value: 0.13504581379818084 and parameters: {'num_boost_round': 1317, 'eta': 0.04266994038833122, 'max_depth': 14, 'lambda': 4.943535053780681, 'alpha': 7.045131303598373, 'colsample_bytree': 0.5, 'subsample': 0.5, 'min_child_weight': 41}. Best is trial 39 with value: 0.12316699137741845.\n",
      "[I 2023-08-01 11:36:42,724] Trial 65 finished with value: 0.13024402500411922 and parameters: {'num_boost_round': 1419, 'eta': 0.03388409614353139, 'max_depth': 6, 'lambda': 4.2725354276583545, 'alpha': 7.603378186207923, 'colsample_bytree': 0.9, 'subsample': 0.4, 'min_child_weight': 26}. Best is trial 39 with value: 0.12316699137741845.\n",
      "[I 2023-08-01 11:37:07,674] Trial 66 finished with value: 0.12242424981667588 and parameters: {'num_boost_round': 1448, 'eta': 0.014774978183737915, 'max_depth': 3, 'lambda': 5.70290953084852, 'alpha': 8.821052711140362, 'colsample_bytree': 0.8, 'subsample': 0.5, 'min_child_weight': 1}. Best is trial 66 with value: 0.12242424981667588.\n",
      "[I 2023-08-01 11:37:36,875] Trial 67 finished with value: 0.1325605344146759 and parameters: {'num_boost_round': 1576, 'eta': 0.013685839467172008, 'max_depth': 2, 'lambda': 5.883477098817574, 'alpha': 8.128828213108877, 'colsample_bytree': 0.8, 'subsample': 0.7, 'min_child_weight': 12}. Best is trial 66 with value: 0.12242424981667588.\n",
      "[I 2023-08-01 11:37:50,675] Trial 68 finished with value: 0.13585041320762575 and parameters: {'num_boost_round': 1428, 'eta': 0.02558005105805932, 'max_depth': 3, 'lambda': 6.6781154933014575, 'alpha': 8.97750040633723, 'colsample_bytree': 0.8, 'subsample': 0.5, 'min_child_weight': 45}. Best is trial 66 with value: 0.12242424981667588.\n"
     ]
    }
   ],
   "source": [
    "study = optuna.create_study(direction='minimize')\n",
    "study.optimize(objective, n_trials=69)"
   ]
  },
  {
   "cell_type": "code",
   "execution_count": 63,
   "metadata": {},
   "outputs": [
    {
     "data": {
      "text/html": [
       "<style>#sk-container-id-3 {color: black;background-color: white;}#sk-container-id-3 pre{padding: 0;}#sk-container-id-3 div.sk-toggleable {background-color: white;}#sk-container-id-3 label.sk-toggleable__label {cursor: pointer;display: block;width: 100%;margin-bottom: 0;padding: 0.3em;box-sizing: border-box;text-align: center;}#sk-container-id-3 label.sk-toggleable__label-arrow:before {content: \"▸\";float: left;margin-right: 0.25em;color: #696969;}#sk-container-id-3 label.sk-toggleable__label-arrow:hover:before {color: black;}#sk-container-id-3 div.sk-estimator:hover label.sk-toggleable__label-arrow:before {color: black;}#sk-container-id-3 div.sk-toggleable__content {max-height: 0;max-width: 0;overflow: hidden;text-align: left;background-color: #f0f8ff;}#sk-container-id-3 div.sk-toggleable__content pre {margin: 0.2em;color: black;border-radius: 0.25em;background-color: #f0f8ff;}#sk-container-id-3 input.sk-toggleable__control:checked~div.sk-toggleable__content {max-height: 200px;max-width: 100%;overflow: auto;}#sk-container-id-3 input.sk-toggleable__control:checked~label.sk-toggleable__label-arrow:before {content: \"▾\";}#sk-container-id-3 div.sk-estimator input.sk-toggleable__control:checked~label.sk-toggleable__label {background-color: #d4ebff;}#sk-container-id-3 div.sk-label input.sk-toggleable__control:checked~label.sk-toggleable__label {background-color: #d4ebff;}#sk-container-id-3 input.sk-hidden--visually {border: 0;clip: rect(1px 1px 1px 1px);clip: rect(1px, 1px, 1px, 1px);height: 1px;margin: -1px;overflow: hidden;padding: 0;position: absolute;width: 1px;}#sk-container-id-3 div.sk-estimator {font-family: monospace;background-color: #f0f8ff;border: 1px dotted black;border-radius: 0.25em;box-sizing: border-box;margin-bottom: 0.5em;}#sk-container-id-3 div.sk-estimator:hover {background-color: #d4ebff;}#sk-container-id-3 div.sk-parallel-item::after {content: \"\";width: 100%;border-bottom: 1px solid gray;flex-grow: 1;}#sk-container-id-3 div.sk-label:hover label.sk-toggleable__label {background-color: #d4ebff;}#sk-container-id-3 div.sk-serial::before {content: \"\";position: absolute;border-left: 1px solid gray;box-sizing: border-box;top: 0;bottom: 0;left: 50%;z-index: 0;}#sk-container-id-3 div.sk-serial {display: flex;flex-direction: column;align-items: center;background-color: white;padding-right: 0.2em;padding-left: 0.2em;position: relative;}#sk-container-id-3 div.sk-item {position: relative;z-index: 1;}#sk-container-id-3 div.sk-parallel {display: flex;align-items: stretch;justify-content: center;background-color: white;position: relative;}#sk-container-id-3 div.sk-item::before, #sk-container-id-3 div.sk-parallel-item::before {content: \"\";position: absolute;border-left: 1px solid gray;box-sizing: border-box;top: 0;bottom: 0;left: 50%;z-index: -1;}#sk-container-id-3 div.sk-parallel-item {display: flex;flex-direction: column;z-index: 1;position: relative;background-color: white;}#sk-container-id-3 div.sk-parallel-item:first-child::after {align-self: flex-end;width: 50%;}#sk-container-id-3 div.sk-parallel-item:last-child::after {align-self: flex-start;width: 50%;}#sk-container-id-3 div.sk-parallel-item:only-child::after {width: 0;}#sk-container-id-3 div.sk-dashed-wrapped {border: 1px dashed gray;margin: 0 0.4em 0.5em 0.4em;box-sizing: border-box;padding-bottom: 0.4em;background-color: white;}#sk-container-id-3 div.sk-label label {font-family: monospace;font-weight: bold;display: inline-block;line-height: 1.2em;}#sk-container-id-3 div.sk-label-container {text-align: center;}#sk-container-id-3 div.sk-container {/* jupyter's `normalize.less` sets `[hidden] { display: none; }` but bootstrap.min.css set `[hidden] { display: none !important; }` so we also need the `!important` here to be able to override the default hidden behavior on the sphinx rendered scikit-learn.org. See: https://github.com/scikit-learn/scikit-learn/issues/21755 */display: inline-block !important;position: relative;}#sk-container-id-3 div.sk-text-repr-fallback {display: none;}</style><div id=\"sk-container-id-3\" class=\"sk-top-container\"><div class=\"sk-text-repr-fallback\"><pre>XGBRegressor(alpha=8.821052711140362, base_score=None, booster=None,\n",
       "             callbacks=None, colsample_bylevel=None, colsample_bynode=None,\n",
       "             colsample_bytree=0.8, early_stopping_rounds=None,\n",
       "             enable_categorical=False, eta=0.014774978183737915,\n",
       "             eval_metric=None, feature_types=None, gamma=None, gpu_id=None,\n",
       "             grow_policy=None, importance_type=None,\n",
       "             interaction_constraints=None, lambda=5.70290953084852,\n",
       "             learning_rate=None, max_bin=None, max_cat_threshold=None,\n",
       "             max_cat_to_onehot=None, max_delta_step=None, max_depth=3,\n",
       "             max_leaves=None, min_child_weight=1, missing=nan,\n",
       "             monotone_constraints=None, n_estimators=1448, n_jobs=None, ...)</pre><b>In a Jupyter environment, please rerun this cell to show the HTML representation or trust the notebook. <br />On GitHub, the HTML representation is unable to render, please try loading this page with nbviewer.org.</b></div><div class=\"sk-container\" hidden><div class=\"sk-item\"><div class=\"sk-estimator sk-toggleable\"><input class=\"sk-toggleable__control sk-hidden--visually\" id=\"sk-estimator-id-3\" type=\"checkbox\" checked><label for=\"sk-estimator-id-3\" class=\"sk-toggleable__label sk-toggleable__label-arrow\">XGBRegressor</label><div class=\"sk-toggleable__content\"><pre>XGBRegressor(alpha=8.821052711140362, base_score=None, booster=None,\n",
       "             callbacks=None, colsample_bylevel=None, colsample_bynode=None,\n",
       "             colsample_bytree=0.8, early_stopping_rounds=None,\n",
       "             enable_categorical=False, eta=0.014774978183737915,\n",
       "             eval_metric=None, feature_types=None, gamma=None, gpu_id=None,\n",
       "             grow_policy=None, importance_type=None,\n",
       "             interaction_constraints=None, lambda=5.70290953084852,\n",
       "             learning_rate=None, max_bin=None, max_cat_threshold=None,\n",
       "             max_cat_to_onehot=None, max_delta_step=None, max_depth=3,\n",
       "             max_leaves=None, min_child_weight=1, missing=nan,\n",
       "             monotone_constraints=None, n_estimators=1448, n_jobs=None, ...)</pre></div></div></div></div></div>"
      ],
      "text/plain": [
       "XGBRegressor(alpha=8.821052711140362, base_score=None, booster=None,\n",
       "             callbacks=None, colsample_bylevel=None, colsample_bynode=None,\n",
       "             colsample_bytree=0.8, early_stopping_rounds=None,\n",
       "             enable_categorical=False, eta=0.014774978183737915,\n",
       "             eval_metric=None, feature_types=None, gamma=None, gpu_id=None,\n",
       "             grow_policy=None, importance_type=None,\n",
       "             interaction_constraints=None, lambda=5.70290953084852,\n",
       "             learning_rate=None, max_bin=None, max_cat_threshold=None,\n",
       "             max_cat_to_onehot=None, max_delta_step=None, max_depth=3,\n",
       "             max_leaves=None, min_child_weight=1, missing=nan,\n",
       "             monotone_constraints=None, n_estimators=1448, n_jobs=None, ...)"
      ]
     },
     "execution_count": 63,
     "metadata": {},
     "output_type": "execute_result"
    }
   ],
   "source": [
    "model = xgb.XGBRegressor(\n",
    "    **study.best_params,\n",
    "    n_estimators=study.best_params['num_boost_round'],\n",
    "    verbosity=0,\n",
    "    tree_method=\"gpu_hist\"\n",
    ")\n",
    "model.fit(X_train, y)"
   ]
  },
  {
   "cell_type": "code",
   "execution_count": 64,
   "metadata": {},
   "outputs": [
    {
     "name": "stdout",
     "output_type": "stream",
     "text": [
      "Successfully made a prediction!\n"
     ]
    }
   ],
   "source": [
    "prediction = model.predict(X_test)\n",
    "submission = pd.DataFrame({\n",
    "    'id': ids,\n",
    "    'SalePrice': prediction\n",
    "})\n",
    "submission.to_csv('Submissions/xgboost_optuna_fe_le_ohe.csv', index=False)\n",
    "print('Successfully made a prediction!')"
   ]
  },
  {
   "cell_type": "code",
   "execution_count": null,
   "metadata": {},
   "outputs": [],
   "source": []
  }
 ],
 "metadata": {
  "kernelspec": {
   "display_name": "Python 3",
   "language": "python",
   "name": "python3"
  },
  "language_info": {
   "codemirror_mode": {
    "name": "ipython",
    "version": 3
   },
   "file_extension": ".py",
   "mimetype": "text/x-python",
   "name": "python",
   "nbconvert_exporter": "python",
   "pygments_lexer": "ipython3",
   "version": "3.10.5"
  },
  "orig_nbformat": 4
 },
 "nbformat": 4,
 "nbformat_minor": 2
}
