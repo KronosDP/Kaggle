{
 "cells": [
  {
   "cell_type": "code",
   "execution_count": 1,
   "metadata": {},
   "outputs": [],
   "source": [
    "import pandas as pd\n",
    "import xgboost as xgb\n",
    "import optuna"
   ]
  },
  {
   "cell_type": "code",
   "execution_count": 2,
   "metadata": {},
   "outputs": [],
   "source": [
    "train = pd.read_csv(\"Dataset/train_fe_fillna_lessrow_lessunique_le_ohe.csv\")\n",
    "test = pd.read_csv(\"Dataset/test_fe_fillna_lessrow_lessunique_le_ohe.csv\")\n",
    "ids = pd.read_csv(\"Dataset/test.csv\")[\"id\"]"
   ]
  },
  {
   "cell_type": "code",
   "execution_count": 3,
   "metadata": {},
   "outputs": [],
   "source": [
    "X_train = train.iloc[:,:-1]\n",
    "X_test = test\n",
    "y=train[\"damage_grade\"]\n",
    "y -= 1"
   ]
  },
  {
   "cell_type": "code",
   "execution_count": 4,
   "metadata": {},
   "outputs": [],
   "source": [
    "def objective(trial):\n",
    "    cv_params = {\n",
    "        \"early_stopping_rounds\": 10,\n",
    "        \"nfold\": 5,\n",
    "        \"metrics\": 'mlogloss',  # Use 'mlogloss' for multiclass classification\n",
    "        \"num_boost_round\": trial.suggest_int('num_boost_round', 500, 2000),\n",
    "    }\n",
    "    model_params = {\n",
    "        \"eval_metric\": 'mlogloss',  # Use 'mlogloss' for multiclass classification\n",
    "        \"objective\": \"multi:softmax\",  # Objective function for multiclass classification\n",
    "        \"num_class\": 5,  # Replace 'num_classes' with the number of classes in your dataset\n",
    "        \"eta\": trial.suggest_float('eta', 0.01, 0.2),\n",
    "        \"max_depth\": trial.suggest_int('max_depth', 2, 10),\n",
    "        'lambda': trial.suggest_float('lambda', 1e-3, 10.0),\n",
    "        'alpha': trial.suggest_float('alpha', 1e-3, 10.0),\n",
    "        'colsample_bytree': trial.suggest_categorical('colsample_bytree', [0.3,0.4,0.5,0.6,0.7,0.8,0.9, 1.0]),\n",
    "        'subsample': trial.suggest_categorical('subsample', [0.4,0.5,0.6,0.7,0.8,1.0]),\n",
    "        'min_child_weight': trial.suggest_int('min_child_weight', 1, 300),\n",
    "        \"n_jobs\": -1,\n",
    "        'tree_method': 'gpu_hist'\n",
    "    }\n",
    "    data_dmatrix = xgb.DMatrix(data=X_train, label=y)  # Use one-hot encoded y_train for multiclass classification\n",
    "    xgb_cv = xgb.cv(dtrain=data_dmatrix, params=model_params, **cv_params)\n",
    "    return xgb_cv['test-mlogloss-mean'].iloc[-1]  # Return the mlogloss score for optimization\n"
   ]
  },
  {
   "cell_type": "code",
   "execution_count": 5,
   "metadata": {},
   "outputs": [
    {
     "name": "stderr",
     "output_type": "stream",
     "text": [
      "[I 2023-08-03 10:43:43,066] A new study created in memory with name: no-name-88f41b07-9e29-46b2-a29f-78deb177513e\n",
      "[I 2023-08-03 10:44:05,029] Trial 0 finished with value: 0.7533323589119958 and parameters: {'num_boost_round': 1599, 'eta': 0.09537563938235687, 'max_depth': 6, 'lambda': 0.5051744111174215, 'alpha': 1.709516031375505, 'colsample_bytree': 0.5, 'subsample': 0.5, 'min_child_weight': 76}. Best is trial 0 with value: 0.7533323589119958.\n",
      "[I 2023-08-03 10:44:25,338] Trial 1 finished with value: 0.7522538857274597 and parameters: {'num_boost_round': 1026, 'eta': 0.12054871585816153, 'max_depth': 4, 'lambda': 7.391452659356109, 'alpha': 9.104376666013527, 'colsample_bytree': 0.9, 'subsample': 0.8, 'min_child_weight': 140}. Best is trial 1 with value: 0.7522538857274597.\n",
      "[I 2023-08-03 10:44:33,406] Trial 2 finished with value: 0.7528302425078952 and parameters: {'num_boost_round': 649, 'eta': 0.18930991883522205, 'max_depth': 7, 'lambda': 2.8376831302419516, 'alpha': 6.982738902900616, 'colsample_bytree': 1.0, 'subsample': 0.7, 'min_child_weight': 77}. Best is trial 1 with value: 0.7522538857274597.\n",
      "[I 2023-08-03 10:44:48,364] Trial 3 finished with value: 0.7517146619188316 and parameters: {'num_boost_round': 907, 'eta': 0.10229036736703856, 'max_depth': 6, 'lambda': 3.50080740751196, 'alpha': 9.197314512446342, 'colsample_bytree': 1.0, 'subsample': 0.5, 'min_child_weight': 9}. Best is trial 3 with value: 0.7517146619188316.\n",
      "[I 2023-08-03 10:45:00,623] Trial 4 finished with value: 0.7528588589131979 and parameters: {'num_boost_round': 1932, 'eta': 0.14702759322233389, 'max_depth': 8, 'lambda': 9.071876054453547, 'alpha': 5.494165320357279, 'colsample_bytree': 0.5, 'subsample': 0.5, 'min_child_weight': 41}. Best is trial 3 with value: 0.7517146619188316.\n",
      "[I 2023-08-03 10:46:00,126] Trial 5 finished with value: 0.7522742342261639 and parameters: {'num_boost_round': 1149, 'eta': 0.03417866294097842, 'max_depth': 3, 'lambda': 0.6889263961749225, 'alpha': 6.208299908309884, 'colsample_bytree': 0.9, 'subsample': 0.8, 'min_child_weight': 124}. Best is trial 3 with value: 0.7517146619188316.\n",
      "[I 2023-08-03 10:46:14,517] Trial 6 finished with value: 0.7554355392690433 and parameters: {'num_boost_round': 545, 'eta': 0.18364754343303222, 'max_depth': 9, 'lambda': 0.12187704738047507, 'alpha': 3.9843525191475755, 'colsample_bytree': 1.0, 'subsample': 0.8, 'min_child_weight': 229}. Best is trial 3 with value: 0.7517146619188316.\n",
      "[I 2023-08-03 10:46:45,424] Trial 7 finished with value: 0.7544227832507381 and parameters: {'num_boost_round': 973, 'eta': 0.0705451056901967, 'max_depth': 11, 'lambda': 7.476850873116495, 'alpha': 4.963726330842829, 'colsample_bytree': 0.4, 'subsample': 0.4, 'min_child_weight': 51}. Best is trial 3 with value: 0.7517146619188316.\n",
      "[I 2023-08-03 10:46:52,058] Trial 8 finished with value: 0.7517559492094545 and parameters: {'num_boost_round': 1149, 'eta': 0.15139101345589057, 'max_depth': 5, 'lambda': 3.5598329583075334, 'alpha': 0.6494034247680323, 'colsample_bytree': 1.0, 'subsample': 0.4, 'min_child_weight': 18}. Best is trial 3 with value: 0.7517146619188316.\n",
      "[I 2023-08-03 10:47:11,141] Trial 9 finished with value: 0.7513819627209692 and parameters: {'num_boost_round': 1401, 'eta': 0.09317762641877156, 'max_depth': 10, 'lambda': 9.286324168290378, 'alpha': 6.434475151884462, 'colsample_bytree': 1.0, 'subsample': 0.7, 'min_child_weight': 29}. Best is trial 9 with value: 0.7513819627209692.\n",
      "[I 2023-08-03 10:49:05,766] Trial 10 finished with value: 0.7655607747161394 and parameters: {'num_boost_round': 1511, 'eta': 0.011362810775341847, 'max_depth': 12, 'lambda': 9.914513793783687, 'alpha': 7.365098068927971, 'colsample_bytree': 0.3, 'subsample': 0.7, 'min_child_weight': 255}. Best is trial 9 with value: 0.7513819627209692.\n",
      "[I 2023-08-03 10:49:37,872] Trial 11 finished with value: 0.7507683651196603 and parameters: {'num_boost_round': 1406, 'eta': 0.07295578497415085, 'max_depth': 10, 'lambda': 5.426010868939303, 'alpha': 9.99940308757331, 'colsample_bytree': 0.6, 'subsample': 0.6, 'min_child_weight': 2}. Best is trial 11 with value: 0.7507683651196603.\n",
      "[I 2023-08-03 10:50:37,680] Trial 12 finished with value: 0.7563225414325235 and parameters: {'num_boost_round': 1468, 'eta': 0.06583517450268248, 'max_depth': 10, 'lambda': 6.192654351367756, 'alpha': 9.801860344603678, 'colsample_bytree': 0.6, 'subsample': 0.6, 'min_child_weight': 195}. Best is trial 11 with value: 0.7507683651196603.\n",
      "[I 2023-08-03 10:51:09,497] Trial 13 finished with value: 0.7489455502017055 and parameters: {'num_boost_round': 1801, 'eta': 0.06826652949929538, 'max_depth': 10, 'lambda': 5.342399653425746, 'alpha': 8.065759006491499, 'colsample_bytree': 0.8, 'subsample': 1.0, 'min_child_weight': 1}. Best is trial 13 with value: 0.7489455502017055.\n",
      "[I 2023-08-03 10:51:42,624] Trial 14 finished with value: 0.7517970936121221 and parameters: {'num_boost_round': 1884, 'eta': 0.056626707515181146, 'max_depth': 12, 'lambda': 4.88343615733284, 'alpha': 8.22276326604889, 'colsample_bytree': 0.8, 'subsample': 1.0, 'min_child_weight': 104}. Best is trial 13 with value: 0.7489455502017055.\n",
      "[I 2023-08-03 10:53:16,325] Trial 15 finished with value: 0.7557162903004488 and parameters: {'num_boost_round': 1693, 'eta': 0.03937127235413311, 'max_depth': 9, 'lambda': 5.3784927871672465, 'alpha': 9.934983588304325, 'colsample_bytree': 0.7, 'subsample': 1.0, 'min_child_weight': 294}. Best is trial 13 with value: 0.7489455502017055.\n",
      "[I 2023-08-03 10:53:50,053] Trial 16 finished with value: 0.7563493102195407 and parameters: {'num_boost_round': 1788, 'eta': 0.07923514563060628, 'max_depth': 8, 'lambda': 4.774291906110179, 'alpha': 7.921705714972848, 'colsample_bytree': 0.6, 'subsample': 0.6, 'min_child_weight': 177}. Best is trial 13 with value: 0.7489455502017055.\n",
      "[I 2023-08-03 10:54:28,889] Trial 17 finished with value: 0.749018508142407 and parameters: {'num_boost_round': 1321, 'eta': 0.052191439728808645, 'max_depth': 10, 'lambda': 6.532553602255099, 'alpha': 8.588774900642122, 'colsample_bytree': 0.8, 'subsample': 1.0, 'min_child_weight': 4}. Best is trial 13 with value: 0.7489455502017055.\n",
      "[I 2023-08-03 10:55:01,052] Trial 18 finished with value: 0.7542760666980729 and parameters: {'num_boost_round': 794, 'eta': 0.04284588150926344, 'max_depth': 2, 'lambda': 7.1287883793390545, 'alpha': 8.258554737875158, 'colsample_bytree': 0.8, 'subsample': 1.0, 'min_child_weight': 75}. Best is trial 13 with value: 0.7489455502017055.\n",
      "[I 2023-08-03 10:57:10,824] Trial 19 finished with value: 0.7517846191805335 and parameters: {'num_boost_round': 1277, 'eta': 0.012964244778905107, 'max_depth': 11, 'lambda': 6.474296077159539, 'alpha': 8.503236134981702, 'colsample_bytree': 0.8, 'subsample': 1.0, 'min_child_weight': 105}. Best is trial 13 with value: 0.7489455502017055.\n",
      "[I 2023-08-03 10:57:43,882] Trial 20 finished with value: 0.7497232545891175 and parameters: {'num_boost_round': 1739, 'eta': 0.05093026890640297, 'max_depth': 8, 'lambda': 8.506427620202176, 'alpha': 7.352038315969743, 'colsample_bytree': 0.8, 'subsample': 1.0, 'min_child_weight': 52}. Best is trial 13 with value: 0.7489455502017055.\n",
      "[I 2023-08-03 10:58:16,194] Trial 21 finished with value: 0.7496756348688141 and parameters: {'num_boost_round': 1721, 'eta': 0.048953779608599014, 'max_depth': 8, 'lambda': 8.311506456692022, 'alpha': 7.339806529010971, 'colsample_bytree': 0.8, 'subsample': 1.0, 'min_child_weight': 46}. Best is trial 13 with value: 0.7489455502017055.\n",
      "[I 2023-08-03 10:59:22,930] Trial 22 finished with value: 0.74877127394046 and parameters: {'num_boost_round': 1590, 'eta': 0.029075287490214444, 'max_depth': 9, 'lambda': 8.36614365379371, 'alpha': 8.761728527282168, 'colsample_bytree': 0.8, 'subsample': 1.0, 'min_child_weight': 1}. Best is trial 22 with value: 0.74877127394046.\n",
      "[I 2023-08-03 11:00:36,622] Trial 23 finished with value: 0.7493591666270025 and parameters: {'num_boost_round': 1586, 'eta': 0.02951692637551849, 'max_depth': 11, 'lambda': 7.816346921722101, 'alpha': 8.886993186961444, 'colsample_bytree': 0.8, 'subsample': 1.0, 'min_child_weight': 1}. Best is trial 22 with value: 0.74877127394046.\n",
      "[I 2023-08-03 11:01:47,051] Trial 24 finished with value: 0.749539956226261 and parameters: {'num_boost_round': 1244, 'eta': 0.026816145936179182, 'max_depth': 9, 'lambda': 6.530459518069657, 'alpha': 8.92840209618011, 'colsample_bytree': 0.8, 'subsample': 1.0, 'min_child_weight': 28}. Best is trial 22 with value: 0.74877127394046.\n",
      "[I 2023-08-03 11:02:30,755] Trial 25 finished with value: 0.7505229836727161 and parameters: {'num_boost_round': 1981, 'eta': 0.05759162121466427, 'max_depth': 10, 'lambda': 8.283097296687046, 'alpha': 7.7112414169496954, 'colsample_bytree': 0.3, 'subsample': 1.0, 'min_child_weight': 62}. Best is trial 22 with value: 0.74877127394046.\n",
      "[I 2023-08-03 11:02:54,087] Trial 26 finished with value: 0.7492117511731784 and parameters: {'num_boost_round': 1330, 'eta': 0.08313687232080083, 'max_depth': 7, 'lambda': 6.629641835090302, 'alpha': 8.30758574878526, 'colsample_bytree': 0.7, 'subsample': 1.0, 'min_child_weight': 18}. Best is trial 22 with value: 0.74877127394046.\n",
      "[I 2023-08-03 11:03:35,835] Trial 27 finished with value: 0.7526119080815741 and parameters: {'num_boost_round': 1825, 'eta': 0.060948966821404965, 'max_depth': 9, 'lambda': 7.866178802391909, 'alpha': 9.25295995201946, 'colsample_bytree': 0.8, 'subsample': 1.0, 'min_child_weight': 166}. Best is trial 22 with value: 0.74877127394046.\n",
      "[I 2023-08-03 11:05:17,707] Trial 28 finished with value: 0.7557921395114111 and parameters: {'num_boost_round': 1582, 'eta': 0.023841543508219067, 'max_depth': 11, 'lambda': 5.910610180429757, 'alpha': 6.79763381450084, 'colsample_bytree': 0.4, 'subsample': 0.4, 'min_child_weight': 92}. Best is trial 22 with value: 0.74877127394046.\n",
      "[I 2023-08-03 11:06:06,709] Trial 29 finished with value: 0.7519522367533542 and parameters: {'num_boost_round': 1599, 'eta': 0.03983428687602497, 'max_depth': 7, 'lambda': 7.15072466681174, 'alpha': 7.712949256212506, 'colsample_bytree': 0.5, 'subsample': 0.5, 'min_child_weight': 33}. Best is trial 22 with value: 0.74877127394046.\n",
      "[I 2023-08-03 11:06:25,580] Trial 30 finished with value: 0.7514529186571899 and parameters: {'num_boost_round': 1655, 'eta': 0.08429366851851838, 'max_depth': 12, 'lambda': 6.867677153441759, 'alpha': 3.2960788875770435, 'colsample_bytree': 0.8, 'subsample': 1.0, 'min_child_weight': 86}. Best is trial 22 with value: 0.74877127394046.\n",
      "[I 2023-08-03 11:06:48,100] Trial 31 finished with value: 0.7492773458180781 and parameters: {'num_boost_round': 1298, 'eta': 0.0874873385163849, 'max_depth': 7, 'lambda': 5.9713247821328155, 'alpha': 8.432008089727907, 'colsample_bytree': 0.7, 'subsample': 1.0, 'min_child_weight': 26}. Best is trial 22 with value: 0.74877127394046.\n",
      "[I 2023-08-03 11:07:10,812] Trial 32 finished with value: 0.7490170261587208 and parameters: {'num_boost_round': 1145, 'eta': 0.07605611118052331, 'max_depth': 6, 'lambda': 6.9930528141924215, 'alpha': 8.54451566384071, 'colsample_bytree': 0.7, 'subsample': 1.0, 'min_child_weight': 14}. Best is trial 22 with value: 0.74877127394046.\n",
      "[I 2023-08-03 11:07:44,113] Trial 33 finished with value: 0.7502957787165597 and parameters: {'num_boost_round': 1116, 'eta': 0.07268215773228881, 'max_depth': 4, 'lambda': 7.467867925776782, 'alpha': 9.237826626385331, 'colsample_bytree': 0.7, 'subsample': 1.0, 'min_child_weight': 67}. Best is trial 22 with value: 0.74877127394046.\n",
      "[I 2023-08-03 11:08:16,311] Trial 34 finished with value: 0.7486520582333986 and parameters: {'num_boost_round': 844, 'eta': 0.05305975395176721, 'max_depth': 6, 'lambda': 6.972374935620467, 'alpha': 8.842357271382662, 'colsample_bytree': 0.7, 'subsample': 1.0, 'min_child_weight': 4}. Best is trial 34 with value: 0.7486520582333986.\n",
      "[I 2023-08-03 11:08:33,822] Trial 35 finished with value: 0.7502307617024646 and parameters: {'num_boost_round': 773, 'eta': 0.10396886261194808, 'max_depth': 6, 'lambda': 8.74521141175568, 'alpha': 9.481941477439282, 'colsample_bytree': 0.7, 'subsample': 0.8, 'min_child_weight': 18}. Best is trial 34 with value: 0.7486520582333986.\n",
      "[I 2023-08-03 11:09:15,020] Trial 36 finished with value: 0.7552082986566806 and parameters: {'num_boost_round': 855, 'eta': 0.06325725077420039, 'max_depth': 5, 'lambda': 7.213637272757325, 'alpha': 8.892158272358822, 'colsample_bytree': 0.9, 'subsample': 0.5, 'min_child_weight': 140}. Best is trial 34 with value: 0.7486520582333986.\n",
      "[I 2023-08-03 11:09:34,760] Trial 37 finished with value: 0.751125492866025 and parameters: {'num_boost_round': 688, 'eta': 0.09382941921585626, 'max_depth': 5, 'lambda': 7.9741774676830195, 'alpha': 9.401150120362, 'colsample_bytree': 0.7, 'subsample': 0.7, 'min_child_weight': 38}. Best is trial 34 with value: 0.7486520582333986.\n",
      "[I 2023-08-03 11:10:12,044] Trial 38 finished with value: 0.7496610933600579 and parameters: {'num_boost_round': 508, 'eta': 0.04399181927064923, 'max_depth': 6, 'lambda': 8.877559812445408, 'alpha': 6.8356919690410605, 'colsample_bytree': 0.7, 'subsample': 1.0, 'min_child_weight': 58}. Best is trial 34 with value: 0.7486520582333986.\n",
      "[I 2023-08-03 11:10:28,232] Trial 39 finished with value: 0.7499303784271605 and parameters: {'num_boost_round': 1029, 'eta': 0.11788964616370474, 'max_depth': 4, 'lambda': 7.622076570008896, 'alpha': 7.741733927482801, 'colsample_bytree': 0.5, 'subsample': 0.8, 'min_child_weight': 1}. Best is trial 34 with value: 0.7486520582333986.\n",
      "[I 2023-08-03 11:10:51,018] Trial 40 finished with value: 0.7530735350347669 and parameters: {'num_boost_round': 948, 'eta': 0.07159423208695742, 'max_depth': 6, 'lambda': 4.219792634189389, 'alpha': 5.9512714538272675, 'colsample_bytree': 0.9, 'subsample': 0.4, 'min_child_weight': 42}. Best is trial 34 with value: 0.7486520582333986.\n",
      "[I 2023-08-03 11:11:30,128] Trial 41 finished with value: 0.7485420610950587 and parameters: {'num_boost_round': 1053, 'eta': 0.057236659664175835, 'max_depth': 8, 'lambda': 6.642987585868399, 'alpha': 8.7461766154585, 'colsample_bytree': 0.4, 'subsample': 1.0, 'min_child_weight': 13}. Best is trial 41 with value: 0.7485420610950587.\n",
      "[I 2023-08-03 11:12:08,200] Trial 42 finished with value: 0.7488878543943136 and parameters: {'num_boost_round': 1072, 'eta': 0.0611540986066462, 'max_depth': 7, 'lambda': 5.803266992922439, 'alpha': 8.787254458042813, 'colsample_bytree': 0.4, 'subsample': 1.0, 'min_child_weight': 17}. Best is trial 41 with value: 0.7485420610950587.\n",
      "[I 2023-08-03 11:13:10,409] Trial 43 finished with value: 0.7490538658954236 and parameters: {'num_boost_round': 1049, 'eta': 0.032888637579059604, 'max_depth': 8, 'lambda': 5.843387862831386, 'alpha': 9.409109698270434, 'colsample_bytree': 0.4, 'subsample': 1.0, 'min_child_weight': 21}. Best is trial 41 with value: 0.7485420610950587.\n",
      "[I 2023-08-03 11:13:41,776] Trial 44 finished with value: 0.7494489765579905 and parameters: {'num_boost_round': 1195, 'eta': 0.06383598732875773, 'max_depth': 7, 'lambda': 5.450173356525211, 'alpha': 9.004526328390046, 'colsample_bytree': 0.4, 'subsample': 1.0, 'min_child_weight': 36}. Best is trial 41 with value: 0.7485420610950587.\n",
      "[I 2023-08-03 11:14:27,173] Trial 45 finished with value: 0.7515066069932309 and parameters: {'num_boost_round': 883, 'eta': 0.05674858028749142, 'max_depth': 9, 'lambda': 6.068340546417705, 'alpha': 7.969999471883495, 'colsample_bytree': 0.4, 'subsample': 0.5, 'min_child_weight': 12}. Best is trial 41 with value: 0.7485420610950587.\n",
      "[I 2023-08-03 11:15:12,407] Trial 46 finished with value: 0.751408069373941 and parameters: {'num_boost_round': 1074, 'eta': 0.05148871448185935, 'max_depth': 8, 'lambda': 4.794092704818775, 'alpha': 9.639629067261534, 'colsample_bytree': 0.4, 'subsample': 0.7, 'min_child_weight': 49}. Best is trial 41 with value: 0.7485420610950587.\n",
      "[I 2023-08-03 11:16:47,424] Trial 47 finished with value: 0.7510107063664588 and parameters: {'num_boost_round': 974, 'eta': 0.020785461678830046, 'max_depth': 7, 'lambda': 9.263172115709462, 'alpha': 9.842129331252604, 'colsample_bytree': 0.4, 'subsample': 0.6, 'min_child_weight': 13}. Best is trial 41 with value: 0.7485420610950587.\n",
      "[I 2023-08-03 11:17:58,048] Trial 48 finished with value: 0.7492004257213671 and parameters: {'num_boost_round': 1879, 'eta': 0.036936140738566256, 'max_depth': 9, 'lambda': 5.519258927718599, 'alpha': 8.841010020617652, 'colsample_bytree': 0.3, 'subsample': 1.0, 'min_child_weight': 27}. Best is trial 41 with value: 0.7485420610950587.\n",
      "[I 2023-08-03 11:18:47,000] Trial 49 finished with value: 0.7544766284995558 and parameters: {'num_boost_round': 634, 'eta': 0.04605099724596354, 'max_depth': 5, 'lambda': 4.453947791781239, 'alpha': 7.0695448608385405, 'colsample_bytree': 1.0, 'subsample': 0.8, 'min_child_weight': 208}. Best is trial 41 with value: 0.7485420610950587.\n"
     ]
    }
   ],
   "source": [
    "study = optuna.create_study(direction='minimize')\n",
    "study.optimize(objective, n_trials=50)"
   ]
  },
  {
   "cell_type": "code",
   "execution_count": 6,
   "metadata": {},
   "outputs": [
    {
     "data": {
      "text/html": [
       "<style>#sk-container-id-1 {color: black;background-color: white;}#sk-container-id-1 pre{padding: 0;}#sk-container-id-1 div.sk-toggleable {background-color: white;}#sk-container-id-1 label.sk-toggleable__label {cursor: pointer;display: block;width: 100%;margin-bottom: 0;padding: 0.3em;box-sizing: border-box;text-align: center;}#sk-container-id-1 label.sk-toggleable__label-arrow:before {content: \"▸\";float: left;margin-right: 0.25em;color: #696969;}#sk-container-id-1 label.sk-toggleable__label-arrow:hover:before {color: black;}#sk-container-id-1 div.sk-estimator:hover label.sk-toggleable__label-arrow:before {color: black;}#sk-container-id-1 div.sk-toggleable__content {max-height: 0;max-width: 0;overflow: hidden;text-align: left;background-color: #f0f8ff;}#sk-container-id-1 div.sk-toggleable__content pre {margin: 0.2em;color: black;border-radius: 0.25em;background-color: #f0f8ff;}#sk-container-id-1 input.sk-toggleable__control:checked~div.sk-toggleable__content {max-height: 200px;max-width: 100%;overflow: auto;}#sk-container-id-1 input.sk-toggleable__control:checked~label.sk-toggleable__label-arrow:before {content: \"▾\";}#sk-container-id-1 div.sk-estimator input.sk-toggleable__control:checked~label.sk-toggleable__label {background-color: #d4ebff;}#sk-container-id-1 div.sk-label input.sk-toggleable__control:checked~label.sk-toggleable__label {background-color: #d4ebff;}#sk-container-id-1 input.sk-hidden--visually {border: 0;clip: rect(1px 1px 1px 1px);clip: rect(1px, 1px, 1px, 1px);height: 1px;margin: -1px;overflow: hidden;padding: 0;position: absolute;width: 1px;}#sk-container-id-1 div.sk-estimator {font-family: monospace;background-color: #f0f8ff;border: 1px dotted black;border-radius: 0.25em;box-sizing: border-box;margin-bottom: 0.5em;}#sk-container-id-1 div.sk-estimator:hover {background-color: #d4ebff;}#sk-container-id-1 div.sk-parallel-item::after {content: \"\";width: 100%;border-bottom: 1px solid gray;flex-grow: 1;}#sk-container-id-1 div.sk-label:hover label.sk-toggleable__label {background-color: #d4ebff;}#sk-container-id-1 div.sk-serial::before {content: \"\";position: absolute;border-left: 1px solid gray;box-sizing: border-box;top: 0;bottom: 0;left: 50%;z-index: 0;}#sk-container-id-1 div.sk-serial {display: flex;flex-direction: column;align-items: center;background-color: white;padding-right: 0.2em;padding-left: 0.2em;position: relative;}#sk-container-id-1 div.sk-item {position: relative;z-index: 1;}#sk-container-id-1 div.sk-parallel {display: flex;align-items: stretch;justify-content: center;background-color: white;position: relative;}#sk-container-id-1 div.sk-item::before, #sk-container-id-1 div.sk-parallel-item::before {content: \"\";position: absolute;border-left: 1px solid gray;box-sizing: border-box;top: 0;bottom: 0;left: 50%;z-index: -1;}#sk-container-id-1 div.sk-parallel-item {display: flex;flex-direction: column;z-index: 1;position: relative;background-color: white;}#sk-container-id-1 div.sk-parallel-item:first-child::after {align-self: flex-end;width: 50%;}#sk-container-id-1 div.sk-parallel-item:last-child::after {align-self: flex-start;width: 50%;}#sk-container-id-1 div.sk-parallel-item:only-child::after {width: 0;}#sk-container-id-1 div.sk-dashed-wrapped {border: 1px dashed gray;margin: 0 0.4em 0.5em 0.4em;box-sizing: border-box;padding-bottom: 0.4em;background-color: white;}#sk-container-id-1 div.sk-label label {font-family: monospace;font-weight: bold;display: inline-block;line-height: 1.2em;}#sk-container-id-1 div.sk-label-container {text-align: center;}#sk-container-id-1 div.sk-container {/* jupyter's `normalize.less` sets `[hidden] { display: none; }` but bootstrap.min.css set `[hidden] { display: none !important; }` so we also need the `!important` here to be able to override the default hidden behavior on the sphinx rendered scikit-learn.org. See: https://github.com/scikit-learn/scikit-learn/issues/21755 */display: inline-block !important;position: relative;}#sk-container-id-1 div.sk-text-repr-fallback {display: none;}</style><div id=\"sk-container-id-1\" class=\"sk-top-container\"><div class=\"sk-text-repr-fallback\"><pre>XGBClassifier(alpha=8.7461766154585, base_score=None, booster=None,\n",
       "              callbacks=None, colsample_bylevel=None, colsample_bynode=None,\n",
       "              colsample_bytree=0.4, early_stopping_rounds=None,\n",
       "              enable_categorical=False, eta=0.057236659664175835,\n",
       "              eval_metric=None, feature_types=None, gamma=None, gpu_id=None,\n",
       "              grow_policy=None, importance_type=None,\n",
       "              interaction_constraints=None, lambda=6.642987585868399,\n",
       "              learning_rate=None, max_bin=None, max_cat_threshold=None,\n",
       "              max_cat_to_onehot=None, max_delta_step=None, max_depth=8,\n",
       "              max_leaves=None, min_child_weight=13, missing=nan,\n",
       "              monotone_constraints=None, n_estimators=1053, n_jobs=None, ...)</pre><b>In a Jupyter environment, please rerun this cell to show the HTML representation or trust the notebook. <br />On GitHub, the HTML representation is unable to render, please try loading this page with nbviewer.org.</b></div><div class=\"sk-container\" hidden><div class=\"sk-item\"><div class=\"sk-estimator sk-toggleable\"><input class=\"sk-toggleable__control sk-hidden--visually\" id=\"sk-estimator-id-1\" type=\"checkbox\" checked><label for=\"sk-estimator-id-1\" class=\"sk-toggleable__label sk-toggleable__label-arrow\">XGBClassifier</label><div class=\"sk-toggleable__content\"><pre>XGBClassifier(alpha=8.7461766154585, base_score=None, booster=None,\n",
       "              callbacks=None, colsample_bylevel=None, colsample_bynode=None,\n",
       "              colsample_bytree=0.4, early_stopping_rounds=None,\n",
       "              enable_categorical=False, eta=0.057236659664175835,\n",
       "              eval_metric=None, feature_types=None, gamma=None, gpu_id=None,\n",
       "              grow_policy=None, importance_type=None,\n",
       "              interaction_constraints=None, lambda=6.642987585868399,\n",
       "              learning_rate=None, max_bin=None, max_cat_threshold=None,\n",
       "              max_cat_to_onehot=None, max_delta_step=None, max_depth=8,\n",
       "              max_leaves=None, min_child_weight=13, missing=nan,\n",
       "              monotone_constraints=None, n_estimators=1053, n_jobs=None, ...)</pre></div></div></div></div></div>"
      ],
      "text/plain": [
       "XGBClassifier(alpha=8.7461766154585, base_score=None, booster=None,\n",
       "              callbacks=None, colsample_bylevel=None, colsample_bynode=None,\n",
       "              colsample_bytree=0.4, early_stopping_rounds=None,\n",
       "              enable_categorical=False, eta=0.057236659664175835,\n",
       "              eval_metric=None, feature_types=None, gamma=None, gpu_id=None,\n",
       "              grow_policy=None, importance_type=None,\n",
       "              interaction_constraints=None, lambda=6.642987585868399,\n",
       "              learning_rate=None, max_bin=None, max_cat_threshold=None,\n",
       "              max_cat_to_onehot=None, max_delta_step=None, max_depth=8,\n",
       "              max_leaves=None, min_child_weight=13, missing=nan,\n",
       "              monotone_constraints=None, n_estimators=1053, n_jobs=None, ...)"
      ]
     },
     "execution_count": 6,
     "metadata": {},
     "output_type": "execute_result"
    }
   ],
   "source": [
    "model = xgb.XGBClassifier(\n",
    "    **study.best_params,\n",
    "    n_estimators=study.best_params['num_boost_round'],\n",
    "    verbosity=0,\n",
    "    tree_method=\"gpu_hist\"\n",
    ")\n",
    "model.fit(X_train, y)"
   ]
  },
  {
   "cell_type": "code",
   "execution_count": 7,
   "metadata": {},
   "outputs": [
    {
     "name": "stdout",
     "output_type": "stream",
     "text": [
      "Successfully made a prediction!\n"
     ]
    }
   ],
   "source": [
    "prediction = model.predict(X_test)\n",
    "prediction += 1\n",
    "submission = pd.DataFrame({\n",
    "    'id': ids,\n",
    "    'damage_grade': prediction\n",
    "})\n",
    "submission.to_csv('Submissions/xgboost_optuna_fe_fillna_lessrow_lessunique_le_ohe.csv', index=False)\n",
    "print('Successfully made a prediction!')"
   ]
  },
  {
   "cell_type": "code",
   "execution_count": null,
   "metadata": {},
   "outputs": [],
   "source": []
  }
 ],
 "metadata": {
  "kernelspec": {
   "display_name": "Python 3",
   "language": "python",
   "name": "python3"
  },
  "language_info": {
   "codemirror_mode": {
    "name": "ipython",
    "version": 3
   },
   "file_extension": ".py",
   "mimetype": "text/x-python",
   "name": "python",
   "nbconvert_exporter": "python",
   "pygments_lexer": "ipython3",
   "version": "3.10.5"
  },
  "orig_nbformat": 4
 },
 "nbformat": 4,
 "nbformat_minor": 2
}
