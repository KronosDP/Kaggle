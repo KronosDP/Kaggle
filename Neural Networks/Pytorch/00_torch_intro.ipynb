{
 "cells": [
  {
   "cell_type": "code",
   "execution_count": 1,
   "metadata": {},
   "outputs": [],
   "source": [
    "import torch"
   ]
  },
  {
   "cell_type": "code",
   "execution_count": 2,
   "metadata": {},
   "outputs": [
    {
     "data": {
      "text/plain": [
       "'2.0.1+cu117'"
      ]
     },
     "execution_count": 2,
     "metadata": {},
     "output_type": "execute_result"
    }
   ],
   "source": [
    "torch.__version__"
   ]
  },
  {
   "cell_type": "markdown",
   "metadata": {},
   "source": [
    "# Playing with tensors"
   ]
  },
  {
   "cell_type": "code",
   "execution_count": 3,
   "metadata": {},
   "outputs": [
    {
     "data": {
      "text/plain": [
       "tensor([[[0.1289, 0.7801, 0.6462],\n",
       "         [0.5257, 0.5695, 0.0443],\n",
       "         [0.1632, 0.2769, 0.7638],\n",
       "         [0.8069, 0.9988, 0.7421],\n",
       "         [0.3235, 0.1107, 0.3117],\n",
       "         [0.8992, 0.9836, 0.0342],\n",
       "         [0.5950, 0.5520, 0.1955],\n",
       "         [0.8193, 0.0214, 0.1036]],\n",
       "\n",
       "        [[0.0900, 0.1600, 0.5997],\n",
       "         [0.4678, 0.2563, 0.6731],\n",
       "         [0.4661, 0.7243, 0.9126],\n",
       "         [0.9681, 0.6846, 0.9025],\n",
       "         [0.1539, 0.3601, 0.4460],\n",
       "         [0.3041, 0.2347, 0.8819],\n",
       "         [0.4037, 0.0050, 0.5979],\n",
       "         [0.0563, 0.8703, 0.0464]],\n",
       "\n",
       "        [[0.7360, 0.2918, 0.0932],\n",
       "         [0.8772, 0.4969, 0.8121],\n",
       "         [0.0866, 0.6582, 0.0730],\n",
       "         [0.5740, 0.4962, 0.2589],\n",
       "         [0.6324, 0.0550, 0.6046],\n",
       "         [0.6300, 0.3304, 0.7729],\n",
       "         [0.8363, 0.0124, 0.4056],\n",
       "         [0.4781, 0.0029, 0.6973]],\n",
       "\n",
       "        [[0.5788, 0.4318, 0.1678],\n",
       "         [0.5371, 0.3060, 0.3155],\n",
       "         [0.9157, 0.5444, 0.8874],\n",
       "         [0.3908, 0.6539, 0.3401],\n",
       "         [0.4696, 0.9282, 0.7559],\n",
       "         [0.0860, 0.7425, 0.8763],\n",
       "         [0.6960, 0.2323, 0.4404],\n",
       "         [0.9005, 0.4570, 0.4482]],\n",
       "\n",
       "        [[0.3116, 0.0306, 0.4773],\n",
       "         [0.9760, 0.2960, 0.5290],\n",
       "         [0.2214, 0.6672, 0.9803],\n",
       "         [0.0083, 0.6410, 0.4860],\n",
       "         [0.9991, 0.3269, 0.9697],\n",
       "         [0.1747, 0.7774, 0.5090],\n",
       "         [0.8794, 0.0288, 0.1606],\n",
       "         [0.4033, 0.9682, 0.6214]],\n",
       "\n",
       "        [[0.7096, 0.2007, 0.9777],\n",
       "         [0.3731, 0.5735, 0.3740],\n",
       "         [0.4053, 0.8364, 0.4769],\n",
       "         [0.9853, 0.8460, 0.2846],\n",
       "         [0.2182, 0.0984, 0.8179],\n",
       "         [0.1146, 0.3371, 0.9882],\n",
       "         [0.3880, 0.3501, 0.7262],\n",
       "         [0.1646, 0.1070, 0.0808]],\n",
       "\n",
       "        [[0.0336, 0.6545, 0.2307],\n",
       "         [0.2133, 0.1967, 0.9328],\n",
       "         [0.1796, 0.4515, 0.1450],\n",
       "         [0.7655, 0.7110, 0.4564],\n",
       "         [0.8556, 0.4283, 0.7175],\n",
       "         [0.3532, 0.3314, 0.5197],\n",
       "         [0.1800, 0.2055, 0.8008],\n",
       "         [0.3249, 0.1875, 0.2757]],\n",
       "\n",
       "        [[0.1022, 0.9693, 0.9338],\n",
       "         [0.0967, 0.4226, 0.0626],\n",
       "         [0.4564, 0.0584, 0.6510],\n",
       "         [0.5027, 0.3303, 0.5359],\n",
       "         [0.8233, 0.6190, 0.3128],\n",
       "         [0.2096, 0.0099, 0.9421],\n",
       "         [0.9730, 0.9660, 0.8952],\n",
       "         [0.6368, 0.9142, 0.6356]]])"
      ]
     },
     "execution_count": 3,
     "metadata": {},
     "output_type": "execute_result"
    }
   ],
   "source": [
    "# [height, width, color_channels]\n",
    "random_image_size_tensor = torch.rand(size=(8, 8, 3))\n",
    "random_image_size_tensor"
   ]
  },
  {
   "cell_type": "code",
   "execution_count": 6,
   "metadata": {},
   "outputs": [
    {
     "data": {
      "text/plain": [
       "(tensor([-1.0000e+01, -9.6000e+00, -9.2000e+00, -8.8000e+00, -8.4000e+00,\n",
       "         -8.0000e+00, -7.6000e+00, -7.2000e+00, -6.8000e+00, -6.4000e+00,\n",
       "         -6.0000e+00, -5.6000e+00, -5.2000e+00, -4.8000e+00, -4.4000e+00,\n",
       "         -4.0000e+00, -3.6000e+00, -3.2000e+00, -2.8000e+00, -2.4000e+00,\n",
       "         -2.0000e+00, -1.6000e+00, -1.2000e+00, -8.0000e-01, -4.0000e-01,\n",
       "         -5.9605e-09,  4.0000e-01,  8.0000e-01,  1.2000e+00,  1.6000e+00,\n",
       "          2.0000e+00,  2.4000e+00,  2.8000e+00,  3.2000e+00,  3.6000e+00,\n",
       "          4.0000e+00,  4.4000e+00,  4.8000e+00,  5.2000e+00,  5.6000e+00,\n",
       "          6.0000e+00,  6.4000e+00,  6.8000e+00,  7.2000e+00,  7.6000e+00,\n",
       "          8.0000e+00,  8.4000e+00,  8.8000e+00,  9.2000e+00,  9.6000e+00]),\n",
       " torch.float32)"
      ]
     },
     "execution_count": 6,
     "metadata": {},
     "output_type": "execute_result"
    }
   ],
   "source": [
    "X = torch.arange(start=-10, end=10, step=0.4).float()\n",
    "X, X.dtype"
   ]
  },
  {
   "cell_type": "code",
   "execution_count": 7,
   "metadata": {},
   "outputs": [
    {
     "name": "stdout",
     "output_type": "stream",
     "text": [
      "Minimum: tensor(-10.)\n",
      "Maximum: tensor(9.6000)\n",
      "Mean: tensor(-0.2000)\n",
      "Sum: tensor(-10.0000)\n",
      "Index where max value occurs: 49\n",
      "Index where min value occurs: 0\n"
     ]
    }
   ],
   "source": [
    "print(\"Minimum:\", X.min())\n",
    "print(\"Maximum:\", X.max())\n",
    "print(\"Mean:\", X.mean())\n",
    "print(\"Sum:\", X.sum())\n",
    "print(f\"Index where max value occurs: {X.argmax()}\")\n",
    "print(f\"Index where min value occurs: {X.argmin()}\")"
   ]
  },
  {
   "cell_type": "markdown",
   "metadata": {},
   "source": [
    "# Dimensions!"
   ]
  },
  {
   "cell_type": "code",
   "execution_count": 14,
   "metadata": {},
   "outputs": [
    {
     "data": {
      "text/plain": [
       "(tensor([1., 2., 3., 4., 5., 6., 7.]), torch.Size([7]))"
      ]
     },
     "execution_count": 14,
     "metadata": {},
     "output_type": "execute_result"
    }
   ],
   "source": [
    "x = torch.arange(1., 8.)\n",
    "x, x.shape"
   ]
  },
  {
   "cell_type": "code",
   "execution_count": 16,
   "metadata": {},
   "outputs": [
    {
     "data": {
      "text/plain": [
       "(tensor([[1., 2., 3., 4., 5., 6., 7.]]), torch.Size([1, 7]))"
      ]
     },
     "execution_count": 16,
     "metadata": {},
     "output_type": "execute_result"
    }
   ],
   "source": [
    "# Add an extra dimension\n",
    "x_reshaped = x.reshape(1, 7)\n",
    "x_reshaped, x_reshaped.shape"
   ]
  },
  {
   "cell_type": "code",
   "execution_count": 19,
   "metadata": {},
   "outputs": [
    {
     "data": {
      "text/plain": [
       "(tensor([[[1., 2., 3., 4., 5., 6., 7.]]]), torch.Size([1, 1, 7]))"
      ]
     },
     "execution_count": 19,
     "metadata": {},
     "output_type": "execute_result"
    }
   ],
   "source": [
    "# Add an extra dimension\n",
    "x_reshaped = x.reshape(1, 1, 7)\n",
    "x_reshaped, x_reshaped.shape"
   ]
  },
  {
   "cell_type": "code",
   "execution_count": 22,
   "metadata": {},
   "outputs": [
    {
     "data": {
      "text/plain": [
       "tensor([[1., 2., 3., 4., 5., 6., 7.],\n",
       "        [1., 2., 3., 4., 5., 6., 7.],\n",
       "        [1., 2., 3., 4., 5., 6., 7.],\n",
       "        [1., 2., 3., 4., 5., 6., 7.]])"
      ]
     },
     "execution_count": 22,
     "metadata": {},
     "output_type": "execute_result"
    }
   ],
   "source": [
    "# Stack tensors on top of each other\n",
    "x_stacked = torch.stack([x, x, x, x], dim=0) # try changing dim to dim=1 and see what happens\n",
    "x_stacked"
   ]
  },
  {
   "cell_type": "code",
   "execution_count": 23,
   "metadata": {},
   "outputs": [
    {
     "name": "stdout",
     "output_type": "stream",
     "text": [
      "Previous tensor: tensor([[[1., 2., 3., 4., 5., 6., 7.]]])\n",
      "Previous shape: torch.Size([1, 1, 7])\n",
      "\n",
      "New tensor: tensor([1., 2., 3., 4., 5., 6., 7.])\n",
      "New shape: torch.Size([7])\n"
     ]
    }
   ],
   "source": [
    "print(f\"Previous tensor: {x_reshaped}\")\n",
    "print(f\"Previous shape: {x_reshaped.shape}\")\n",
    "\n",
    "# Remove extra dimension from x_reshaped\n",
    "x_squeezed = x_reshaped.squeeze()\n",
    "print(f\"\\nNew tensor: {x_squeezed}\")\n",
    "print(f\"New shape: {x_squeezed.shape}\")"
   ]
  },
  {
   "cell_type": "code",
   "execution_count": 30,
   "metadata": {},
   "outputs": [
    {
     "name": "stdout",
     "output_type": "stream",
     "text": [
      "Previous tensor: tensor([1., 2., 3., 4., 5., 6., 7.])\n",
      "Previous shape: torch.Size([7])\n",
      "\n",
      "New tensor: tensor([[1., 2., 3., 4., 5., 6., 7.]])\n",
      "New shape: torch.Size([1, 7])\n",
      "\n",
      "New tensor: tensor([[1.],\n",
      "        [2.],\n",
      "        [3.],\n",
      "        [4.],\n",
      "        [5.],\n",
      "        [6.],\n",
      "        [7.]])\n",
      "New shape: torch.Size([7, 1])\n"
     ]
    }
   ],
   "source": [
    "print(f\"Previous tensor: {x_squeezed}\")\n",
    "print(f\"Previous shape: {x_squeezed.shape}\")\n",
    "\n",
    "## Add an extra dimension with unsqueeze\n",
    "x_unsqueezed = x_squeezed.unsqueeze(dim=0)\n",
    "print(f\"\\nNew tensor: {x_unsqueezed}\")\n",
    "print(f\"New shape: {x_unsqueezed.shape}\")\n",
    "\n",
    "## Add an extra dimension with unsqueeze\n",
    "x_unsqueezed = x_squeezed.unsqueeze(dim=1)\n",
    "print(f\"\\nNew tensor: {x_unsqueezed}\")\n",
    "print(f\"New shape: {x_unsqueezed.shape}\")"
   ]
  },
  {
   "cell_type": "code",
   "execution_count": 31,
   "metadata": {},
   "outputs": [
    {
     "name": "stdout",
     "output_type": "stream",
     "text": [
      "Previous shape: torch.Size([224, 224, 3])\n",
      "New shape: torch.Size([3, 224, 224])\n"
     ]
    }
   ],
   "source": [
    "# Create tensor with specific shape\n",
    "x_original = torch.rand(size=(224, 224, 3))\n",
    "\n",
    "# Permute the original tensor to rearrange the axis order\n",
    "x_permuted = x_original.permute(2, 0, 1) # shifts axis 0->1, 1->2, 2->0\n",
    "\n",
    "print(f\"Previous shape: {x_original.shape}\")\n",
    "print(f\"New shape: {x_permuted.shape}\")"
   ]
  },
  {
   "cell_type": "code",
   "execution_count": 32,
   "metadata": {},
   "outputs": [
    {
     "data": {
      "text/plain": [
       "(tensor([[[1, 2, 3],\n",
       "          [4, 5, 6],\n",
       "          [7, 8, 9]]]),\n",
       " torch.Size([1, 3, 3]))"
      ]
     },
     "execution_count": 32,
     "metadata": {},
     "output_type": "execute_result"
    }
   ],
   "source": [
    "x = torch.arange(1, 10).reshape(1, 3, 3)\n",
    "x, x.shape"
   ]
  },
  {
   "cell_type": "code",
   "execution_count": 33,
   "metadata": {},
   "outputs": [
    {
     "name": "stdout",
     "output_type": "stream",
     "text": [
      "First square bracket:\n",
      "tensor([[1, 2, 3],\n",
      "        [4, 5, 6],\n",
      "        [7, 8, 9]])\n",
      "Second square bracket: tensor([1, 2, 3])\n",
      "Third square bracket: 1\n"
     ]
    }
   ],
   "source": [
    "# Let's index bracket by bracket\n",
    "print(f\"First square bracket:\\n{x[0]}\") \n",
    "print(f\"Second square bracket: {x[0][0]}\") \n",
    "print(f\"Third square bracket: {x[0][0][0]}\")"
   ]
  },
  {
   "cell_type": "code",
   "execution_count": 34,
   "metadata": {},
   "outputs": [
    {
     "name": "stdout",
     "output_type": "stream",
     "text": [
      "Tensor A:\n",
      "tensor([[0.8927, 0.4413, 0.6946, 0.2083],\n",
      "        [0.8233, 0.2819, 0.4163, 0.2326],\n",
      "        [0.6612, 0.7536, 0.5252, 0.2311]])\n",
      "\n",
      "Tensor B:\n",
      "tensor([[0.8166, 0.1093, 0.7743, 0.0584],\n",
      "        [0.6976, 0.8706, 0.2267, 0.2702],\n",
      "        [0.5450, 0.9603, 0.6979, 0.9904]])\n",
      "\n",
      "Does Tensor A equal Tensor B? (anywhere)\n"
     ]
    },
    {
     "data": {
      "text/plain": [
       "tensor([[False, False, False, False],\n",
       "        [False, False, False, False],\n",
       "        [False, False, False, False]])"
      ]
     },
     "execution_count": 34,
     "metadata": {},
     "output_type": "execute_result"
    }
   ],
   "source": [
    "# Create two random tensors\n",
    "random_tensor_A = torch.rand(3, 4)\n",
    "random_tensor_B = torch.rand(3, 4)\n",
    "\n",
    "print(f\"Tensor A:\\n{random_tensor_A}\\n\")\n",
    "print(f\"Tensor B:\\n{random_tensor_B}\\n\")\n",
    "print(f\"Does Tensor A equal Tensor B? (anywhere)\")\n",
    "random_tensor_A == random_tensor_B"
   ]
  },
  {
   "cell_type": "code",
   "execution_count": 35,
   "metadata": {},
   "outputs": [
    {
     "name": "stdout",
     "output_type": "stream",
     "text": [
      "Tensor C:\n",
      "tensor([[0.8823, 0.9150, 0.3829, 0.9593],\n",
      "        [0.3904, 0.6009, 0.2566, 0.7936],\n",
      "        [0.9408, 0.1332, 0.9346, 0.5936]])\n",
      "\n",
      "Tensor D:\n",
      "tensor([[0.8823, 0.9150, 0.3829, 0.9593],\n",
      "        [0.3904, 0.6009, 0.2566, 0.7936],\n",
      "        [0.9408, 0.1332, 0.9346, 0.5936]])\n",
      "\n",
      "Does Tensor C equal Tensor D? (anywhere)\n"
     ]
    },
    {
     "data": {
      "text/plain": [
       "tensor([[True, True, True, True],\n",
       "        [True, True, True, True],\n",
       "        [True, True, True, True]])"
      ]
     },
     "execution_count": 35,
     "metadata": {},
     "output_type": "execute_result"
    }
   ],
   "source": [
    "# # Set the random seed\n",
    "RANDOM_SEED=42 # try changing this to different values and see what happens to the numbers below\n",
    "torch.manual_seed(seed=RANDOM_SEED) \n",
    "random_tensor_C = torch.rand(3, 4)\n",
    "\n",
    "# Have to reset the seed every time a new rand() is called \n",
    "# Without this, tensor_D would be different to tensor_C \n",
    "torch.random.manual_seed(seed=RANDOM_SEED) # try commenting this line out and seeing what happens\n",
    "random_tensor_D = torch.rand(3, 4)\n",
    "\n",
    "print(f\"Tensor C:\\n{random_tensor_C}\\n\")\n",
    "print(f\"Tensor D:\\n{random_tensor_D}\\n\")\n",
    "print(f\"Does Tensor C equal Tensor D? (anywhere)\")\n",
    "random_tensor_C == random_tensor_D"
   ]
  }
 ],
 "metadata": {
  "kernelspec": {
   "display_name": "Python 3",
   "language": "python",
   "name": "python3"
  },
  "language_info": {
   "codemirror_mode": {
    "name": "ipython",
    "version": 3
   },
   "file_extension": ".py",
   "mimetype": "text/x-python",
   "name": "python",
   "nbconvert_exporter": "python",
   "pygments_lexer": "ipython3",
   "version": "3.10.5"
  },
  "orig_nbformat": 4
 },
 "nbformat": 4,
 "nbformat_minor": 2
}
